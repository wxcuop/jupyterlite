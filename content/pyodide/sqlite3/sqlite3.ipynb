{
  "metadata": {
    "kernelspec": {
      "name": "python",
      "display_name": "Python (Pyodide)",
      "language": "python"
    },
    "language_info": {
      "codemirror_mode": {
        "name": "python",
        "version": 3
      },
      "file_extension": ".py",
      "mimetype": "text/x-python",
      "name": "python",
      "nbconvert_exporter": "python",
      "pygments_lexer": "ipython3",
      "version": "3.8"
    }
  },
  "nbformat_minor": 5,
  "nbformat": 4,
  "cells": [
    {
      "id": "09a7654c-3a04-41cb-abee-535aff2d4e9e",
      "cell_type": "code",
      "source": "import sqlite3",
      "metadata": {
        "trusted": true
      },
      "outputs": [],
      "execution_count": 2
    },
    {
      "id": "29b44706-02e2-41d9-a021-4a7906ae6656",
      "cell_type": "code",
      "source": "import os\n\n# Path to the corrupted database\ndb_path = \"difference_of_squares.db\"\n\n# Delete the corrupted database file\nif os.path.exists(db_path):\n    os.remove(db_path)\n\n# Create a fresh database\nconnection = sqlite3.connect(db_path)\ncursor = connection.cursor()\n\ncursor.execute('''\nCREATE TABLE \"difference-of-squares\" (\n    \"number\" INT,\n    \"property\" TEXT,\n    \"result\" INT\n)\n''')\n\nconnection.commit()\nconnection.close()\nprint(\"Fresh database created successfully!\")",
      "metadata": {
        "trusted": true
      },
      "outputs": [
        {
          "name": "stdout",
          "output_type": "stream",
          "text": "Fresh database created successfully!\n"
        }
      ],
      "execution_count": 5
    },
    {
      "id": "bdb844a1-bfe6-44f3-b299-f30c35c574c2",
      "cell_type": "code",
      "source": "# Connect to SQLite database (or create it if it doesn't exist)\nconnection = sqlite3.connect(\"difference_of_squares.db\")\ncursor = connection.cursor()\n\n# Step 1: Create the table\ncursor.execute('''\nCREATE TABLE IF NOT EXISTS \"difference-of-squares\" (\n    \"number\" INT,\n    \"property\" TEXT,\n    \"result\" INT\n)\n''')\n\n# Step 2: Clear existing data from the table\ncursor.execute('DELETE FROM \"difference-of-squares\"')\n\n# Step 3: Insert the provided data\ndata = [\n    (1, \"squareOfSum\", None),\n    (5, \"squareOfSum\", None),\n    (100, \"squareOfSum\", None),\n    (1, \"sumOfSquares\", None),\n    (5, \"sumOfSquares\", None),\n    (100, \"sumOfSquares\", None),\n    (1, \"differenceOfSquares\", None),\n    (5, \"differenceOfSquares\", None),\n    (100, \"differenceOfSquares\", None),\n]\ncursor.executemany('INSERT INTO \"difference-of-squares\" (\"number\", \"property\", \"result\") VALUES (?, ?, ?)', data)\n\n# Step 4: Update the result column based on the property\ncursor.execute('''\nUPDATE \"difference-of-squares\"\nSET \"result\" = CASE\n    WHEN \"property\" = 'squareOfSum' THEN (\n        (\"number\" * (\"number\" + 1)) / 2 * (\"number\" * (\"number\" + 1)) / 2\n    )\n    WHEN \"property\" = 'sumOfSquares' THEN (\n        (\"number\" * (\"number\" + 1) * (2 * \"number\" + 1)) / 6\n    )\n    WHEN \"property\" = 'differenceOfSquares' THEN (\n        ((\"number\" * (\"number\" + 1)) / 2 * (\"number\" * (\"number\" + 1)) / 2) -\n        ((\"number\" * (\"number\" + 1) * (2 * \"number\" + 1)) / 6)\n    )\n    ELSE NULL\nEND\n''')\n\n# Commit the changes and close the connection\nconnection.commit()\n\n# Step 5: Verify the results\ncursor.execute('SELECT * FROM \"difference-of-squares\"')\nrows = cursor.fetchall()\n\n# Print the results\nfor row in rows:\n    print(row)\n\nconnection.close()",
      "metadata": {
        "trusted": true
      },
      "outputs": [
        {
          "name": "stdout",
          "output_type": "stream",
          "text": "(1, 'squareOfSum', 1)\n(5, 'squareOfSum', 225)\n(100, 'squareOfSum', 25502500)\n(1, 'sumOfSquares', 1)\n(5, 'sumOfSquares', 55)\n(100, 'sumOfSquares', 338350)\n(1, 'differenceOfSquares', 0)\n(5, 'differenceOfSquares', 170)\n(100, 'differenceOfSquares', 25164150)\n"
        }
      ],
      "execution_count": 3
    }
  ]
}
