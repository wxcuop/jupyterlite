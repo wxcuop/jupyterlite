{
  "metadata": {
    "kernelspec": {
      "name": "python",
      "display_name": "Python (Pyodide)",
      "language": "python"
    },
    "language_info": {
      "codemirror_mode": {
        "name": "python",
        "version": 3
      },
      "file_extension": ".py",
      "mimetype": "text/x-python",
      "name": "python",
      "nbconvert_exporter": "python",
      "pygments_lexer": "ipython3",
      "version": "3.8"
    }
  },
  "nbformat_minor": 5,
  "nbformat": 4,
  "cells": [
    {
      "id": "d26bc3d6-2ed9-4f12-9b2f-999602e34736",
      "cell_type": "code",
      "source": "import project_generator",
      "metadata": {
        "trusted": true
      },
      "outputs": [],
      "execution_count": null
    },
    {
      "id": "8c34d911-9105-4eea-9e87-ae535382b772",
      "cell_type": "code",
      "source": "# Call the create_project_structure function\nproject_name = \"my_project\"\nbase_dir = project_generator.create_project_structure(project_name)\n\n# Package the project into a zip file\noutput_file = \"my_project.zip\"\nproject_generator.package_project(base_dir, output_file)\n\n# Clean up after packaging (manually remove temporary directory)\nimport shutil\nshutil.rmtree(base_dir)",
      "metadata": {
        "trusted": true
      },
      "outputs": [],
      "execution_count": null
    }
  ]
}