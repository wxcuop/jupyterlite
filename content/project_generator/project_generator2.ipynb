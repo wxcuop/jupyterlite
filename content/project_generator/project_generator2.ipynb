{
  "metadata": {
    "kernelspec": {
      "name": "python",
      "display_name": "Python (Pyodide)",
      "language": "python"
    },
    "language_info": {
      "codemirror_mode": {
        "name": "python",
        "version": 3
      },
      "file_extension": ".py",
      "mimetype": "text/x-python",
      "name": "python",
      "nbconvert_exporter": "python",
      "pygments_lexer": "ipython3",
      "version": "3.8"
    }
  },
  "nbformat_minor": 5,
  "nbformat": 4,
  "cells": [
    {
      "id": "651ab233-4dbe-4cf3-af5c-027dca0eeef7",
      "cell_type": "code",
      "source": "import project_generator\n\n# Call main() with arguments\nproject_generator.main(\"example_project\", \"example_project.zip\")",
      "metadata": {
        "trusted": true
      },
      "outputs": [],
      "execution_count": null
    }
  ]
}